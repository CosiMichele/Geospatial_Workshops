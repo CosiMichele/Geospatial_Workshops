{
  "cells": [
    {
      "cell_type": "markdown",
      "metadata": {
        "id": "Ri7-0cUycLPk"
      },
      "source": [
        "<a href=\"https://colab.research.google.com/github/ua-datalab/Geospatial_Workshops/blob/main/notebooks/zarr_xarray.ipynb\" target=\"_parent\"><img src=\"https://colab.research.google.com/assets/colab-badge.svg\" alt=\"Open In Colab\"/></a>"
      ]
    },
    {
      "cell_type": "markdown",
      "metadata": {
        "id": "jwokd0wzcLP2"
      },
      "source": [
        "## Gridded Daily Meteorological Data Analysis\n",
        "\n",
        "[ORNL Daymet](https://daymet.ornl.gov/) Version 4 provides gridded (1 km x 1 km) estimates of daily weather data across North America. Variables include the following parameters: minimum temperature, maximum temperature, precipitation, shortwave radiation, vapor pressure, snow water equivalent, and day length.\n",
        "\n",
        " The dataset covers the period from January 1, 1980 to December 2020. Each year is processed individually at the close of a calendar year. Data are in a [Lambert conformal conic projection](https://en.wikipedia.org/wiki/Lambert_conformal_conic_projection) for North America and are distributed in [Zarr](https://zarr.readthedocs.io/en/stable/) and [NetCDF](https://www.unidata.ucar.edu/software/netcdf/) formats, compliant with the [Climate and Forecast (CF) metadata conventions](http://cfconventions.org) (version 1.6).\n",
        "\n",
        "\n",
        "\n",
        "This notebook loads Daymet data that are stored in [Zarr format](https://zarr.readthedocs.io/en/stable/) into an [xarray](https://docs.xarray.dev/en/stable/getting-started-guide/why-xarray.html) dataset. Description of the dataset, hosted on Microsoft Planetary Computer, can be found [here](https://planetarycomputer.microsoft.com/dataset/daymet-daily-na). The SpatioTemporal Asset Catalog for monthly daymet is [here](https://radiantearth.github.io/stac-browser/#/external/planetarycomputer.microsoft.com/api/stac/v1/collections/daymet-monthly-na?.asset=asset-zarr-abfs).\n",
        "\n",
        "\n"
      ]
    },
    {
      "cell_type": "code",
      "execution_count": null,
      "metadata": {
        "tags": [],
        "id": "a1AisU-3cLP3"
      },
      "outputs": [],
      "source": [
        "# Install tornado>=6.2 to the VM. We use '!' to denote running a shell command instead of a python command.\n",
        "#Tornado improves access of Zarr datasets over http\n",
        "!pip install tornado==6.3.2\n"
      ]
    },
    {
      "cell_type": "code",
      "execution_count": 38,
      "metadata": {
        "tags": [],
        "id": "FZI6ShGScLP5"
      },
      "outputs": [],
      "source": [
        "# Install a complete version of xarray.--quiet reduces the amount of output in the console.\n",
        "#xarray is a library for working with multi-dimensional array data\n",
        "!pip install xarray[complete] --quiet\n"
      ]
    },
    {
      "cell_type": "code",
      "execution_count": 39,
      "metadata": {
        "tags": [],
        "id": "AimAVCgncLP6"
      },
      "outputs": [],
      "source": [
        "# Install pystac_client. This library is used to crawl SpatioTemporal Asset Catalogs (STAC)\n",
        "!pip install pystac_client --quiet\n"
      ]
    },
    {
      "cell_type": "code",
      "execution_count": 40,
      "metadata": {
        "tags": [],
        "id": "rbjqtBMacLP6"
      },
      "outputs": [],
      "source": [
        "# Install fsspec to work with remote file systems.\n",
        "!pip install fsspec --quiet\n"
      ]
    },
    {
      "cell_type": "code",
      "execution_count": 41,
      "metadata": {
        "tags": [],
        "id": "4sVwyECMcLP7"
      },
      "outputs": [],
      "source": [
        "!pip install dask-gateway --quiet\n"
      ]
    },
    {
      "cell_type": "code",
      "execution_count": 42,
      "metadata": {
        "tags": [],
        "id": "tb7j-WHvcLP8"
      },
      "outputs": [],
      "source": [
        "!pip install Cartopy --quiet"
      ]
    },
    {
      "cell_type": "code",
      "execution_count": 43,
      "metadata": {
        "tags": [],
        "id": "AfHc0z4dcLP8"
      },
      "outputs": [],
      "source": [
        "##Load all of the libraries\n",
        "\n",
        "import warnings\n",
        "import pystac\n",
        "import fsspec\n",
        "import cartopy\n",
        "\n",
        "import xarray as xr\n",
        "import matplotlib.pyplot as plt\n",
        "\n",
        "from dask_gateway import GatewayCluster\n",
        "\n",
        "warnings.simplefilter(\"ignore\", RuntimeWarning)\n"
      ]
    },
    {
      "cell_type": "code",
      "execution_count": null,
      "metadata": {
        "tags": [],
        "id": "7Mbej_LdcLP8"
      },
      "outputs": [],
      "source": [
        "# Select monthly Daymet data indexed in SpatioTemporal Asset Catalog (STAC)\n",
        "\n",
        "collection = pystac.Collection.from_file(\n",
        "    \"https://planetarycomputer.microsoft.com/api/stac/v1/collections/daymet-monthly-na\" #endpoint where monthly daymet is located in STAC\n",
        ")\n",
        "collection.assets #show the assets in the collection\n"
      ]
    },
    {
      "cell_type": "code",
      "execution_count": 45,
      "metadata": {
        "tags": [],
        "id": "B2IzhB2AcLP9"
      },
      "outputs": [],
      "source": [
        "# Select collections asset via https\n",
        "\n",
        "asset = collection.assets[\"zarr-https\"]\n"
      ]
    },
    {
      "cell_type": "markdown",
      "metadata": {
        "id": "5GLkuLr5cLP9"
      },
      "source": [
        "The Zarr assets provided by the Planetary Computer implement the [xarray-assets](https://github.com/stac-extensions/xarray-assets) extension. These specify the necessary and recommended keywords when loading data from [fsspec-based filesystems](https://filesystem-spec.readthedocs.io/en/latest/) and xarray using Python."
      ]
    },
    {
      "cell_type": "code",
      "execution_count": null,
      "metadata": {
        "tags": [],
        "id": "6lMZRqqjcLP9"
      },
      "outputs": [],
      "source": [
        "asset.extra_fields\n"
      ]
    },
    {
      "cell_type": "code",
      "execution_count": null,
      "metadata": {
        "tags": [],
        "id": "hzJcnJI1cLP9"
      },
      "outputs": [],
      "source": [
        "# Connect to the Zarr file in cloud storage and get metadata about it.\n",
        "#This is called 'lazy loading', meaning we are NOT getting the data, just looking at it's info.\n",
        "\n",
        "store = fsspec.get_mapper(asset.href)\n",
        "ds = xr.open_zarr(store, **asset.extra_fields[\"xarray:open_kwargs\"])\n",
        "\n",
        "#Display the Zarr info\n",
        "ds\n"
      ]
    },
    {
      "cell_type": "code",
      "execution_count": null,
      "metadata": {
        "tags": [],
        "id": "UgvMHrZDcLP-"
      },
      "outputs": [],
      "source": [
        "# Array size for one month selection of Tmax\n",
        "xr.set_options(keep_attrs=True)\n",
        "\n",
        "#Select the tmax variable for July 2020 and bring it into memory\n",
        "avg_tmax = ds.sel(time=\"2020-07\")[\"tmax\"].mean(dim=\"time\")\n",
        "\n",
        "#Show the array info\n",
        "avg_tmax\n"
      ]
    },
    {
      "cell_type": "code",
      "execution_count": 54,
      "metadata": {
        "tags": [],
        "id": "ezSRDm4ucLP_"
      },
      "outputs": [],
      "source": [
        "# Select monthly precipitation for June 2020 and compute arithmetic mean\n",
        "# Coarser grid (4km x 4km)\n",
        "\n",
        "ds_prcp = (\n",
        "    ds[\"prcp\"]\n",
        "    .sel(time=\"2020-06\")\n",
        "    .coarsen(dim={\"x\": 4, \"y\": 4}, boundary=\"trim\")\n",
        "    .mean()\n",
        "    .load()\n",
        ")\n"
      ]
    },
    {
      "cell_type": "code",
      "execution_count": null,
      "metadata": {
        "tags": [],
        "id": "u_JhpkOxcLP_"
      },
      "outputs": [],
      "source": [
        "# Plot the average monthly precipitation for June 2020\n",
        "\n",
        "import cartopy.crs as ccrs\n",
        "\n",
        "lcc = ds.variables[\"lambert_conformal_conic\"].attrs\n",
        "\n",
        "prj_kwargs = dict(\n",
        "    central_latitude=lcc[\"latitude_of_projection_origin\"],\n",
        "    central_longitude=lcc[\"longitude_of_central_meridian\"],\n",
        "    standard_parallels=(lcc[\"standard_parallel\"]),\n",
        ")\n",
        "crs = ccrs.LambertConformal(**prj_kwargs)\n",
        "\n",
        "fig, ax = plt.subplots(\n",
        "    figsize=(10, 6), dpi=100, subplot_kw=dict(projection=crs, frameon=False)\n",
        ")\n",
        "ds_prcp.plot(\n",
        "    ax=ax, transform=crs, cmap=\"YlGnBu\", cbar_kwargs={\"aspect\": 50}, robust=True\n",
        ")\n",
        "ax.set_extent([-145, -58, 5, 84])\n",
        "ax.coastlines(linewidth=0.2)\n",
        "plt.show();\n"
      ]
    },
    {
      "cell_type": "code",
      "execution_count": 59,
      "metadata": {
        "tags": [],
        "id": "VOpqX1pVcLQA"
      },
      "outputs": [],
      "source": [
        "# Compute the top 2 years with large amounts of precipitation in the last 10 years\n",
        "\n",
        "total_avg_prcp = ds[\"prcp\"].isel(time=slice(-12 * 10, None)).mean([\"x\", \"y\"]).load()\n",
        "df = total_avg_prcp.to_dataframe()\n",
        "top2 = df.sort_values(\"prcp\", ascending=False).head(2)\n",
        "top2"
      ]
    },
    {
      "cell_type": "code",
      "execution_count": null,
      "metadata": {
        "tags": [],
        "id": "KdyRaDb3cLQB"
      },
      "outputs": [],
      "source": [
        "# Create plots of these years\n",
        "\n",
        "wettest_months = top2.index.to_list()\n",
        "da = (\n",
        "    ds[\"prcp\"]\n",
        "    .sel(time=wettest_months)\n",
        "    .coarsen(dim={\"x\": 8, \"y\": 8}, boundary=\"trim\")\n",
        "    .mean()\n",
        ")\n",
        "p = da.plot(\n",
        "    col=\"time\",\n",
        "    col_wrap=2,\n",
        "    figsize=(12, 10),\n",
        "    cmap=\"YlGnBu\",\n",
        "    robust=True,\n",
        "    subplot_kws=dict(projection=crs),\n",
        "    cbar_kwargs={\"aspect\": 50},\n",
        ")\n",
        "\n",
        "for ax in p.axes.flat:\n",
        "    ax.set_extent([-145, -58, 5, 84])\n",
        "    ax.coastlines()\n"
      ]
    }
  ],
  "metadata": {
    "colab": {
      "name": "XarrayZarrExample1.ipynb",
      "provenance": []
    },
    "kernelspec": {
      "display_name": "Python 3 (ipykernel)",
      "language": "python",
      "name": "python3"
    },
    "language_info": {
      "codemirror_mode": {
        "name": "ipython",
        "version": 3
      },
      "file_extension": ".py",
      "mimetype": "text/x-python",
      "name": "python",
      "nbconvert_exporter": "python",
      "pygments_lexer": "ipython3",
      "version": "3.10.11"
    }
  },
  "nbformat": 4,
  "nbformat_minor": 0
}