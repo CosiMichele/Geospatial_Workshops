{
  "nbformat": 4,
  "nbformat_minor": 0,
  "metadata": {
    "colab": {
      "provenance": [],
      "authorship_tag": "ABX9TyO8MGs3aZn1E8yTzw2quBQN",
      "include_colab_link": true
    },
    "kernelspec": {
      "name": "python3",
      "display_name": "Python 3"
    },
    "language_info": {
      "name": "python"
    }
  },
  "cells": [
    {
      "cell_type": "markdown",
      "metadata": {
        "id": "view-in-github",
        "colab_type": "text"
      },
      "source": [
        "<a href=\"https://colab.research.google.com/github/ua-datalab/Geospatial_Workshops/blob/main/notebooks/Planet_API.ipynb\" target=\"_parent\"><img src=\"https://colab.research.google.com/assets/colab-badge.svg\" alt=\"Open In Colab\"/></a>"
      ]
    },
    {
      "cell_type": "markdown",
      "metadata": {
        "id": "view-in-github",
        "colab_type": "text"
      },
      "source": [
        "<a href="https://de.cyverse.org/apps/de/c2227314-1995-11ed-986c-008cfa5ae621/launch?saved-launch-id=f7eadb21-1b78-4da9-b587-baf0b5fc527e" target="_blank" rel="noopener noreferrer"><img src="https://de.cyverse.org/Powered-By-CyVerse-blue.svg"></a>"
      ]
    },
    {
      "cell_type": "markdown",
      "source": [
        "# This Notebook demonstrates how to use python to tap into Planet's API to search and download imagery data.\n",
        "\n",
        "Written by Jeffrey Gillan, 2024 (with help from ChatGPT4.0)"
      ],
      "metadata": {
        "id": "4LDSjJciW09q"
      }
    },
    {
      "cell_type": "markdown",
      "source": [
        "## Setup"
      ],
      "metadata": {
        "id": "v2URVTwliKGW"
      }
    },
    {
      "cell_type": "code",
      "source": [
        "# Determine the python version we are working in\n",
        "import sys\n",
        "print(sys.version)"
      ],
      "metadata": {
        "id": "3gl2JfqXYWlR"
      },
      "execution_count": null,
      "outputs": []
    },
    {
      "cell_type": "code",
      "source": [
        "#Colab comes with many python libraries pre-installed\n",
        "#You can view the list of installed libraries\n",
        "!pip freeze"
      ],
      "metadata": {
        "id": "rx9lDRFkYnJm"
      },
      "execution_count": null,
      "outputs": []
    },
    {
      "cell_type": "code",
      "source": [
        "#Import libraries to use into our environment\n",
        "\n",
        "import os\n",
        "import json\n",
        "import requests\n",
        "import time\n",
        "from requests.auth import HTTPBasicAuth"
      ],
      "metadata": {
        "id": "gowl4XC30xJg"
      },
      "execution_count": 3,
      "outputs": []
    },
    {
      "cell_type": "code",
      "source": [
        "# Helper function to print formatted Json using the json module. This makes reading json format much easier.\n",
        "def p(data):\n",
        "    print(json.dumps(data, indent=2))"
      ],
      "metadata": {
        "id": "wUu05ndQnRZ_"
      },
      "execution_count": 4,
      "outputs": []
    },
    {
      "cell_type": "code",
      "source": [
        "#Set your API Key as a variable. Logon to Planet https://www.planet.com/login and go to 'My Settings' to get key.\n",
        "#An API key is similar to a password. It tells Planet that your are a registered user.\n",
        "\n",
        "API_KEY = ''"
      ],
      "metadata": {
        "id": "dLu27OA-zMDF"
      },
      "execution_count": 7,
      "outputs": []
    },
    {
      "cell_type": "code",
      "source": [
        "# Defining API URL Endpoints. 'Endpoints' are the web addresses where the API is located.\n",
        "# Different endpoints do slight different things. The 3 endpoints listed here (stats, quick-search, orders) each provide different information to the user.\n",
        "\n",
        "# The Data API is used to search for and get stats on imagery items. You can only download 1 image at a time here\n",
        "stats_url = \"https://api.planet.com/data/v1/stats\"\n",
        "quick_search_url = \"https://api.planet.com/data/v1/quick-search\"\n",
        "\n",
        "# The Orders API is used for bulk download of imagery\n",
        "orders_url = 'https://api.planet.com/compute/ops/orders/v2'"
      ],
      "metadata": {
        "id": "2kh5ApaLh1zS"
      },
      "execution_count": 8,
      "outputs": []
    },
    {
      "cell_type": "markdown",
      "source": [
        "## Search and Download Imagery using the Planet Data API"
      ],
      "metadata": {
        "id": "nsvhlyWphabz"
      }
    },
    {
      "cell_type": "code",
      "source": [
        "### Create an Area of Interest (AOI) that you want to get satellite imagery from\n",
        "\n",
        "#Tucson Arizona bounding box (https://geojson.io/)\n",
        "geojson_geometry = {\n",
        "        \"coordinates\": [\n",
        "          [\n",
        "            [\n",
        "              -110.92350539668898,\n",
        "              32.518041630963125\n",
        "            ],\n",
        "            [\n",
        "              -110.92350539668898,\n",
        "              32.336129360270974\n",
        "            ],\n",
        "            [\n",
        "              -110.6292017202573,\n",
        "              32.336129360270974\n",
        "            ],\n",
        "            [\n",
        "              -110.6292017202573,\n",
        "              32.518041630963125\n",
        "            ],\n",
        "            [\n",
        "              -110.92350539668898,\n",
        "              32.518041630963125\n",
        "            ]\n",
        "          ]\n",
        "        ],\n",
        "        \"type\": \"Polygon\"\n",
        "      }"
      ],
      "metadata": {
        "id": "h8i1W-TvzmEk"
      },
      "execution_count": 5,
      "outputs": []
    },
    {
      "cell_type": "code",
      "source": [
        "###Define Filtering Parameters for Searching for Planet Imagery (https://developers.planet.com/docs/apis/data/searches-filtering/)\n",
        "\n",
        "# get images that overlap with our AOI\n",
        "geometry_filter = {\n",
        "  \"type\": \"GeometryFilter\",\n",
        "  \"field_name\": \"geometry\",\n",
        "  \"config\": geojson_geometry\n",
        "}\n",
        "\n",
        "# get images acquired within a date range\n",
        "date_range_filter = {\n",
        "  \"type\": \"DateRangeFilter\",   #Type of filter = Data Range\n",
        "  \"field_name\": \"acquired\",\n",
        "  \"config\": {\n",
        "    \"gte\": \"2020-06-18T00:00:00.000Z\", # gte = greater than or equals\n",
        "    \"lte\": \"2020-06-19T00:00:00.000Z\"  # lte = less than or equals\n",
        "  }\n",
        "}\n",
        "\n",
        "# only get images which have <50% cloud coverage\n",
        "cloud_cover_filter = {\n",
        "  \"type\": \"RangeFilter\",\n",
        "  \"field_name\": \"cloud_cover\",\n",
        "  \"config\": {\n",
        "    \"lte\": 0.5  # Less than or equal to 50% cloud cover\n",
        "  }\n",
        "}\n",
        "\n",
        "# combine our geo, date, cloud filters into a single filter\n",
        "combined_filter = {\n",
        "  \"type\": \"AndFilter\",\n",
        "  \"config\": [geometry_filter, date_range_filter, cloud_cover_filter]\n",
        "}"
      ],
      "metadata": {
        "id": "w7BqDth606Cm"
      },
      "execution_count": 6,
      "outputs": []
    },
    {
      "cell_type": "code",
      "source": [
        "## Send Filtered Search Request to Planet API to get the Number of Imagery Assets\n",
        "\n",
        "#Create API Request object\n",
        "item_type = \"PSScene\" # we are looking for PlanetScope Imagery (https://www.planet.com/products/planet-imagery/)\n",
        "stat_request = {\n",
        "    \"item_types\" : [item_type],\n",
        "    \"interval\" : \"day\",\n",
        "    \"filter\" : combined_filter\n",
        "}\n",
        "\n",
        "# Send the POST request to the API stats endpoint\n",
        "stat_response = \\\n",
        "  requests.post(\n",
        "      stats_url,       #Using the 'stats' endpoint address\n",
        "      auth=HTTPBasicAuth(API_KEY, ''),\n",
        "      json=stat_request)\n",
        "\n",
        "geojson = stat_response.json()\n",
        "\n",
        "p(geojson)"
      ],
      "metadata": {
        "id": "sgBzeCpZmBpz"
      },
      "execution_count": null,
      "outputs": []
    },
    {
      "cell_type": "code",
      "source": [
        "### Send Filtered Search Request to Planet API to Get Imagery Names\n",
        "\n",
        "# Create API request object\n",
        "item_type = \"PSScene\" # we are looking for PlanetScope Imagery (https://www.planet.com/products/planet-imagery/)\n",
        "search_request = {\n",
        "  \"item_types\": [item_type],\n",
        "  \"filter\": combined_filter\n",
        "}\n",
        "\n",
        "\n",
        "# Send POST request to Planet API\n",
        "search_result = \\\n",
        "  requests.post(\n",
        "    quick_search_url,   # Send to the quick-search endpoint address\n",
        "    auth=HTTPBasicAuth(API_KEY, ''),\n",
        "    json=search_request)\n",
        "\n",
        "geojson = search_result.json()\n",
        "\n",
        "# let's look at the first result\n",
        "p(list(geojson.items())[1][1][0])"
      ],
      "metadata": {
        "id": "tsAk4X4i1D3s"
      },
      "execution_count": null,
      "outputs": []
    },
    {
      "cell_type": "code",
      "source": [
        "# extract image IDs only\n",
        "image_ids = [feature['id'] for feature in geojson['features']]\n",
        "p(image_ids)"
      ],
      "metadata": {
        "id": "JJC-irv51XrO"
      },
      "execution_count": null,
      "outputs": []
    },
    {
      "cell_type": "code",
      "source": [
        "# Let's Pick an interesting image\n",
        "\n",
        "id0 = '20200618_175631_92_106d'\n",
        "\n",
        "id0_url = 'https://api.planet.com/data/v1/item-types/{}/items/{}/assets'.format(item_type, id0)\n",
        "\n",
        "# Use GET request to see the specific assets for the item ID\n",
        "result = \\\n",
        "  requests.get(\n",
        "    id0_url,\n",
        "    auth=HTTPBasicAuth(API_KEY, '')\n",
        "  )\n",
        "\n",
        "# List of asset types available for this particular satellite image\n",
        "print(result.json().keys())"
      ],
      "metadata": {
        "id": "UYlZDLO_1gdG"
      },
      "execution_count": null,
      "outputs": []
    },
    {
      "cell_type": "code",
      "source": [
        "### If Imagery Assets have not been touched in 30 days, they are in cold storage and need to be activated\n",
        "\n",
        "# Check the status of the Asset\n",
        "print(result.json()['ortho_analytic_4b']['status'])"
      ],
      "metadata": {
        "id": "zII-FgclVyoB"
      },
      "execution_count": null,
      "outputs": []
    },
    {
      "cell_type": "code",
      "source": [
        "### Send a request to have the image activated\n",
        "\n",
        "# Parse out useful links\n",
        "links = result.json()[u\"ortho_analytic_4b\"][\"_links\"]\n",
        "self_link = links[\"_self\"]\n",
        "activation_link = links[\"activate\"]\n",
        "\n",
        "# Request activation of the 'ortho_analytic_4b' asset:\n",
        "activate_result = \\\n",
        "  requests.get(\n",
        "    activation_link,\n",
        "    auth=HTTPBasicAuth(API_KEY, '')\n",
        "  )"
      ],
      "metadata": {
        "id": "ey0giw8k14nH"
      },
      "execution_count": 16,
      "outputs": []
    },
    {
      "cell_type": "code",
      "source": [
        "##Check the status of the asset now\n",
        "\n",
        "activation_status_result = \\\n",
        "  requests.get(\n",
        "    self_link,\n",
        "    auth=HTTPBasicAuth(API_KEY, '')\n",
        "  )\n",
        "\n",
        "print(activation_status_result.json()[\"status\"])"
      ],
      "metadata": {
        "id": "qIU7u5-92DGi"
      },
      "execution_count": null,
      "outputs": []
    },
    {
      "cell_type": "code",
      "source": [
        "# Get the download link for the active asset\n",
        "download_link = activation_status_result.json()[\"location\"]\n",
        "print(download_link)"
      ],
      "metadata": {
        "id": "h58p1doV2IsN"
      },
      "execution_count": null,
      "outputs": []
    },
    {
      "cell_type": "code",
      "source": [
        "##Download the image into Colab disk\n",
        "\n",
        "# Send a GET request to the download URL\n",
        "response = requests.get(download_link)\n",
        "\n",
        "# Check if the request was successful\n",
        "if response.status_code == 200:\n",
        "    # Write the content of the response to a file\n",
        "    # Replace 'image_name_extension.' with the appropriate name and extension for your image\n",
        "    with open('bighorn_fire.tif', 'wb') as file:\n",
        "        file.write(response.content)\n",
        "    print(\"Image downloaded successfully!\")\n",
        "else:\n",
        "    print(\"Failed to download the image. Status code:\", response.status_code)\n",
        "\n",
        "# Now you can load and process your image using the appropriate libraries and tools"
      ],
      "metadata": {
        "id": "r5r7lAsQaVU2"
      },
      "execution_count": null,
      "outputs": []
    },
    {
      "cell_type": "markdown",
      "source": [
        "## Visualize Satellite Imagery"
      ],
      "metadata": {
        "id": "DLrGKeu5id8V"
      }
    },
    {
      "cell_type": "code",
      "source": [
        "## Install libraries for visualization and analysis\n",
        "\n",
        "!pip install rasterio\n",
        "!pip install GDAL\n",
        "\n",
        "## bring the libraries into the environment\n",
        "import rasterio\n",
        "from rasterio.plot import show\n",
        "import matplotlib.pyplot as plt"
      ],
      "metadata": {
        "id": "DnOPukeZ-Gqg"
      },
      "execution_count": null,
      "outputs": []
    },
    {
      "cell_type": "code",
      "source": [
        "# Set a variable containing the path of the imagery on your Colab disk\n",
        "image_path = '/content/bighorn_fire.tif'  # Replace with your file path\n"
      ],
      "metadata": {
        "id": "-3IvPoee_F8z"
      },
      "execution_count": 22,
      "outputs": []
    },
    {
      "cell_type": "code",
      "source": [
        "### Visualize the Satellite Imagery\n",
        "## Planetscope band order: band 1 = blue; band 2 = green; band 3 = red; band 4 = near-infrared\n",
        "\n",
        "with rasterio.open(image_path) as src:\n",
        "    image = src.read([4, 3, 2])  # Display as false-color composite (show nir as red; show red as green; show green as blue)\n",
        "\n",
        "# Normalize the bands\n",
        "image = image.astype('float32')\n",
        "for i in range(image.shape[0]):\n",
        "    image[i] /= image[i].max()\n",
        "\n",
        "plt.figure(figsize=(10, 10))\n",
        "\n",
        "image = image.transpose(1, 2, 0)  # Transpose dimensions\n",
        "plt.imshow(image)\n",
        "plt.axis('off')\n",
        "plt.show()"
      ],
      "metadata": {
        "id": "lIw6Uza9DiLV"
      },
      "execution_count": null,
      "outputs": []
    },
    {
      "cell_type": "markdown",
      "source": [
        "## Download multiple imagery assets using Planet Orders API"
      ],
      "metadata": {
        "id": "QLqXCmvDint-"
      }
    },
    {
      "cell_type": "code",
      "source": [
        "#Define the item IDs and asset types I want to download\n",
        "\n",
        "multi_products = [\n",
        "    {\n",
        "        \"item_ids\":[\n",
        "            \"20200618_175633_99_106d\",\n",
        "            \"20200618_175631_92_106d\",\n",
        "            \"20200618_175629_85_106d\"\n",
        "         ],\n",
        "         \"item_type\":\"PSScene\",\n",
        "         \"product_bundle\":\"analytic_udm2\"     #asset type\n",
        "    }\n",
        "]"
      ],
      "metadata": {
        "id": "gto_t9vXskzc"
      },
      "execution_count": 24,
      "outputs": []
    },
    {
      "cell_type": "code",
      "source": [
        "##Create API Request object\n",
        "\n",
        "order_request = {\n",
        "    \"name\": \"mt_lemmon\",\n",
        "    \"products\": multi_products,\n",
        "    \"deliver\": {\"single_archive\": True, \"archive_type\": \"zip\"}\n",
        "}"
      ],
      "metadata": {
        "id": "ZnpdoYU2s3mM"
      },
      "execution_count": 25,
      "outputs": []
    },
    {
      "cell_type": "code",
      "source": [
        "order_request"
      ],
      "metadata": {
        "id": "ZfYIEMPLvau4"
      },
      "execution_count": null,
      "outputs": []
    },
    {
      "cell_type": "code",
      "source": [
        "# Send the POST request to the Orders API endpoints\n",
        "order_response = \\\n",
        "  requests.post(\n",
        "      orders_url,\n",
        "      auth=HTTPBasicAuth(API_KEY, ''),\n",
        "      json=order_request)\n",
        "\n",
        "geojson = order_response.json()\n",
        "\n",
        "p(geojson)"
      ],
      "metadata": {
        "id": "uyzcUYsuvan6"
      },
      "execution_count": null,
      "outputs": []
    },
    {
      "cell_type": "code",
      "source": [
        "##Check if your order is ready for download\n",
        "\n",
        "# The url is the Orders API address + the order 'ID' provided in the order response\n",
        "order_status_url = \"https://api.planet.com/compute/ops/orders/v2/cf49ada4-b4d4-4efe-953e-02d541d6af67\"  # Replace with your order status URL\n",
        "\n",
        "while True:\n",
        "    response = requests.get(order_status_url, auth=HTTPBasicAuth(API_KEY, ''))\n",
        "    response.raise_for_status()\n",
        "    order_status = response.json()\n",
        "\n",
        "    if order_status['state'] in ['success', 'failed']:\n",
        "        break\n",
        "    else:\n",
        "        print(\"Order is still processing...\")\n",
        "        time.sleep(60)  # Wait for 60 seconds before checking again\n",
        "\n",
        "if order_status['state'] == 'success':\n",
        "    print(\"Order is ready!\")\n",
        "elif order_status['state'] == 'failed':\n",
        "    print(\"Order failed:\", order_status.get('error', 'No error message provided'))\n"
      ],
      "metadata": {
        "id": "Caejr-xMZN3j"
      },
      "execution_count": null,
      "outputs": []
    },
    {
      "cell_type": "code",
      "source": [
        "order_status"
      ],
      "metadata": {
        "id": "YbvPn5a5xWRZ"
      },
      "execution_count": null,
      "outputs": []
    },
    {
      "cell_type": "code",
      "source": [
        "##Download the order to Colab\n",
        "\n",
        "def download_file(url, local_filename):\n",
        "    with requests.get(url, stream=True, auth=HTTPBasicAuth(API_KEY, '')) as r:\n",
        "        r.raise_for_status()\n",
        "        with open(local_filename, 'wb') as f:\n",
        "            for chunk in r.iter_content(chunk_size=8192):\n",
        "                f.write(chunk)\n",
        "\n",
        "\n",
        "if order_status['state'] == 'success':\n",
        "    for file_info in order_status['_links']['results']:\n",
        "        file_url = file_info['location']\n",
        "        full_name = file_info['name']  # The full 'name' field with slashes\n",
        "        file_name = full_name.split('/')[-1]  # Extracting the last part after the last slash\n",
        "\n",
        "        # Construct the local file path\n",
        "        local_filename = os.path.join(\"/content\", file_name)\n",
        "\n",
        "        download_file(file_url, local_filename)\n",
        "        print(f\"Downloaded {local_filename}\")\n"
      ],
      "metadata": {
        "id": "ZVm_zhAgZNtJ"
      },
      "execution_count": null,
      "outputs": []
    }
  ]
}
