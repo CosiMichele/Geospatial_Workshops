{
  "nbformat": 4,
  "nbformat_minor": 0,
  "metadata": {
    "colab": {
      "provenance": [],
      "authorship_tag": "ABX9TyODBH3RB7ZmtrRRYXQ7AWga",
      "include_colab_link": true
    },
    "kernelspec": {
      "name": "python3",
      "display_name": "Python 3"
    },
    "language_info": {
      "name": "python"
    }
  },
  "cells": [
    {
      "cell_type": "markdown",
      "metadata": {
        "id": "view-in-github",
        "colab_type": "text"
      },
      "source": [
        "<a href=\"https://colab.research.google.com/github/ua-datalab/Geospatial_Workshops/blob/main/Planet_API.ipynb\" target=\"_parent\"><img src=\"https://colab.research.google.com/assets/colab-badge.svg\" alt=\"Open In Colab\"/></a>"
      ]
    },
    {
      "cell_type": "code",
      "execution_count": 4,
      "metadata": {
        "id": "oM9LOXCHK3wd"
      },
      "outputs": [],
      "source": [
        "import os\n",
        "import json\n",
        "import time\n",
        "import requests"
      ]
    },
    {
      "cell_type": "code",
      "source": [
        "PLANET_API_KEY = os.getenv('PLAKf730b076da2a4e8e9c40a4cc99395546')"
      ],
      "metadata": {
        "id": "YU5U3wbKPCYh"
      },
      "execution_count": 5,
      "outputs": []
    },
    {
      "cell_type": "markdown",
      "source": [],
      "metadata": {
        "id": "pBXjbH5WPb0Z"
      }
    },
    {
      "cell_type": "code",
      "source": [
        "#setup Planet Data API base URL\n",
        "URL = \"https://api.planet.com/data/v1\""
      ],
      "metadata": {
        "id": "17o49q4JPKw3"
      },
      "execution_count": 6,
      "outputs": []
    },
    {
      "cell_type": "code",
      "source": [
        "# Set up the session\n",
        "session = requests.Session()"
      ],
      "metadata": {
        "id": "fgyeqR9pPjTy"
      },
      "execution_count": 9,
      "outputs": []
    },
    {
      "cell_type": "code",
      "source": [
        "#Authenticate\n",
        "session.auth = (PLANET_API_KEY, \"\")"
      ],
      "metadata": {
        "id": "urcC0utsPzKj"
      },
      "execution_count": 12,
      "outputs": []
    },
    {
      "cell_type": "code",
      "source": [
        "res = session.get(URL)\n",
        "res.status_code"
      ],
      "metadata": {
        "colab": {
          "base_uri": "https://localhost:8080/"
        },
        "id": "CTsnnZG4QCVt",
        "outputId": "5248b93c-4dc4-43bd-ae57-c20bfe7fa59a"
      },
      "execution_count": 13,
      "outputs": [
        {
          "output_type": "execute_result",
          "data": {
            "text/plain": [
              "200"
            ]
          },
          "metadata": {},
          "execution_count": 13
        }
      ]
    },
    {
      "cell_type": "code",
      "source": [
        "#Helper function to print formatted JSON using the json module\n",
        "def p(data):\n",
        "  print(json.dumps(data,indent=2))"
      ],
      "metadata": {
        "id": "dwH1QzvYQLt-"
      },
      "execution_count": 14,
      "outputs": []
    },
    {
      "cell_type": "code",
      "source": [],
      "metadata": {
        "id": "IaE7iB1nQaIn"
      },
      "execution_count": null,
      "outputs": []
    }
  ]
}