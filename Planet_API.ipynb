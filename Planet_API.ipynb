{
  "nbformat": 4,
  "nbformat_minor": 0,
  "metadata": {
    "colab": {
      "provenance": [],
      "authorship_tag": "ABX9TyPJkAHl0+Z301wcqlu+Fi9w",
      "include_colab_link": true
    },
    "kernelspec": {
      "name": "python3",
      "display_name": "Python 3"
    },
    "language_info": {
      "name": "python"
    }
  },
  "cells": [
    {
      "cell_type": "markdown",
      "metadata": {
        "id": "view-in-github",
        "colab_type": "text"
      },
      "source": [
        "<a href=\"https://colab.research.google.com/github/ua-datalab/Geospatial_Workshops/blob/main/Planet_API.ipynb\" target=\"_parent\"><img src=\"https://colab.research.google.com/assets/colab-badge.svg\" alt=\"Open In Colab\"/></a>"
      ]
    },
    {
      "cell_type": "code",
      "execution_count": 4,
      "metadata": {
        "id": "oM9LOXCHK3wd"
      },
      "outputs": [],
      "source": [
        "import os\n",
        "import json\n",
        "import time\n",
        "import requests"
      ]
    },
    {
      "cell_type": "code",
      "source": [
        "PLANET_API_KEY = 'PLAKf730b076da2a4e8e9c40a4cc99395546'"
      ],
      "metadata": {
        "id": "YU5U3wbKPCYh"
      },
      "execution_count": 23,
      "outputs": []
    },
    {
      "cell_type": "markdown",
      "source": [],
      "metadata": {
        "id": "pBXjbH5WPb0Z"
      }
    },
    {
      "cell_type": "code",
      "source": [
        "#setup Planet Data API base URL\n",
        "URL = \"https://api.planet.com/data/v1\""
      ],
      "metadata": {
        "id": "17o49q4JPKw3"
      },
      "execution_count": 24,
      "outputs": []
    },
    {
      "cell_type": "code",
      "source": [
        "# Set up the session\n",
        "session = requests.Session()"
      ],
      "metadata": {
        "id": "fgyeqR9pPjTy"
      },
      "execution_count": 25,
      "outputs": []
    },
    {
      "cell_type": "code",
      "source": [
        "#Authenticate\n",
        "session.auth = (PLANET_API_KEY, \"\")"
      ],
      "metadata": {
        "id": "urcC0utsPzKj"
      },
      "execution_count": 26,
      "outputs": []
    },
    {
      "cell_type": "code",
      "source": [
        "res = session.get(URL)\n",
        "res.status_code"
      ],
      "metadata": {
        "colab": {
          "base_uri": "https://localhost:8080/"
        },
        "id": "CTsnnZG4QCVt",
        "outputId": "9eb55cf1-4e94-485d-9e8f-b2a9d1987457"
      },
      "execution_count": 27,
      "outputs": [
        {
          "output_type": "execute_result",
          "data": {
            "text/plain": [
              "200"
            ]
          },
          "metadata": {},
          "execution_count": 27
        }
      ]
    },
    {
      "cell_type": "code",
      "source": [
        "#Helper function to print formatted JSON using the json module\n",
        "def p(data):\n",
        "  print(json.dumps(data,indent=2))"
      ],
      "metadata": {
        "id": "dwH1QzvYQLt-"
      },
      "execution_count": 28,
      "outputs": []
    },
    {
      "cell_type": "code",
      "source": [
        "#Setup the stats URL\n",
        "stats_url = \"{}/stats\".format(URL)"
      ],
      "metadata": {
        "id": "IaE7iB1nQaIn"
      },
      "execution_count": 29,
      "outputs": []
    },
    {
      "cell_type": "code",
      "source": [
        "date_filter = {\n",
        "    \"type\": \"DateRangeFilter\", #Type of Filter = Date Range\n",
        "    \"field_name\": \"acquired\", # The field to filter on: \"acquired\" = Date on which the \"image was taken\"\n",
        "    \"config\": {\n",
        "        \"gte\": \"2016-11-30T00:00:00.000Z\" # gte = Greater than or equal to\n",
        "    }\n",
        "}"
      ],
      "metadata": {
        "id": "Nq48ttnyRo3P"
      },
      "execution_count": 40,
      "outputs": []
    },
    {
      "cell_type": "code",
      "source": [
        "geometry = {\n",
        "    \"type\": \"GeometryFilter\",\n",
        "    \"field_name\": \"geometry\",\n",
        "    \"config\": {\n",
        "        \"type\": \"Point\",\n",
        "        \"coordinates\": [\n",
        "            -116.078169,33.921195\n",
        "        ]\n",
        "    }\n",
        "}"
      ],
      "metadata": {
        "id": "FPCpPL5nU6eR"
      },
      "execution_count": 41,
      "outputs": []
    },
    {
      "cell_type": "code",
      "source": [
        "# Set up Cloud Filter\n",
        "cloud_filter = {\n",
        "    \"type\": \"RangeFilter\",\n",
        "    \"field_name\": \"cloud_cover\",\n",
        "    \"config\": {\n",
        "        \"lt\": 0.1    # lt = less than\n",
        "    }\n",
        "}"
      ],
      "metadata": {
        "id": "zlC1U5KNWC2Q"
      },
      "execution_count": 42,
      "outputs": []
    },
    {
      "cell_type": "code",
      "source": [
        "and_filter = {\n",
        "    \"type\": \"AndFilter\",\n",
        "    \"config\": [geometry,date_filter,cloud_filter]\n",
        "}\n",
        "\n",
        "p(and_filter)"
      ],
      "metadata": {
        "id": "d5hy0ytzWnrk",
        "outputId": "6f836331-70b6-45f9-d3ae-89dc3478aa9f",
        "colab": {
          "base_uri": "https://localhost:8080/"
        }
      },
      "execution_count": 43,
      "outputs": [
        {
          "output_type": "stream",
          "name": "stdout",
          "text": [
            "{\n",
            "  \"type\": \"AndFilter\",\n",
            "  \"config\": [\n",
            "    {\n",
            "      \"type\": \"GeometryFilter\",\n",
            "      \"field_name\": \"geometry\",\n",
            "      \"config\": {\n",
            "        \"type\": \"Point\",\n",
            "        \"coordinates\": [\n",
            "          -116.078169,\n",
            "          33.921195\n",
            "        ]\n",
            "      }\n",
            "    },\n",
            "    {\n",
            "      \"type\": \"DateRangeFilter\",\n",
            "      \"field_name\": \"acquired\",\n",
            "      \"config\": {\n",
            "        \"gte\": \"2016-11-30T00:00:00.000Z\"\n",
            "      }\n",
            "    },\n",
            "    {\n",
            "      \"type\": \"RangeFilter\",\n",
            "      \"field_name\": \"cloud_cover\",\n",
            "      \"config\": {\n",
            "        \"lt\": 0.1\n",
            "      }\n",
            "    }\n",
            "  ]\n",
            "}\n"
          ]
        }
      ]
    },
    {
      "cell_type": "code",
      "source": [
        "item_types = [\"PSScene\"]\n",
        "\n",
        "#Setup the request\n",
        "request = {\n",
        "    \"item_types\" : item_types,\n",
        "    \"interval\" : \"year\",\n",
        "    \"filter\" : and_filter\n",
        "}\n",
        "\n",
        "# Send the POST request to the API stats endpoint\n",
        "res=session.post(stats_url, json=request)\n",
        "\n",
        "#Print response\n",
        "p(res.json())"
      ],
      "metadata": {
        "id": "CmhbiUe8Xfl7",
        "outputId": "426dd825-df83-4142-9cdf-cc5d2250f93d",
        "colab": {
          "base_uri": "https://localhost:8080/"
        }
      },
      "execution_count": 44,
      "outputs": [
        {
          "output_type": "stream",
          "name": "stdout",
          "text": [
            "{\n",
            "  \"buckets\": [\n",
            "    {\n",
            "      \"count\": 3,\n",
            "      \"start_time\": \"2016-01-01T00:00:00.000000Z\"\n",
            "    },\n",
            "    {\n",
            "      \"count\": 197,\n",
            "      \"start_time\": \"2017-01-01T00:00:00.000000Z\"\n",
            "    },\n",
            "    {\n",
            "      \"count\": 268,\n",
            "      \"start_time\": \"2018-01-01T00:00:00.000000Z\"\n",
            "    },\n",
            "    {\n",
            "      \"count\": 368,\n",
            "      \"start_time\": \"2019-01-01T00:00:00.000000Z\"\n",
            "    },\n",
            "    {\n",
            "      \"count\": 447,\n",
            "      \"start_time\": \"2020-01-01T00:00:00.000000Z\"\n",
            "    },\n",
            "    {\n",
            "      \"count\": 518,\n",
            "      \"start_time\": \"2021-01-01T00:00:00.000000Z\"\n",
            "    },\n",
            "    {\n",
            "      \"count\": 454,\n",
            "      \"start_time\": \"2022-01-01T00:00:00.000000Z\"\n",
            "    },\n",
            "    {\n",
            "      \"count\": 364,\n",
            "      \"start_time\": \"2023-01-01T00:00:00.000000Z\"\n",
            "    },\n",
            "    {\n",
            "      \"count\": 8,\n",
            "      \"start_time\": \"2024-01-01T00:00:00.000000Z\"\n",
            "    }\n",
            "  ],\n",
            "  \"interval\": \"year\",\n",
            "  \"utc_offset\": \"+0h\"\n",
            "}\n"
          ]
        }
      ]
    }
  ]
}