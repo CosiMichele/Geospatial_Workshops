{
  "nbformat": 4,
  "nbformat_minor": 0,
  "metadata": {
    "colab": {
      "provenance": [],
      "authorship_tag": "ABX9TyOjvMyf2oh7MQBs0Y/RrAjc",
      "include_colab_link": true
    },
    "kernelspec": {
      "name": "python3",
      "display_name": "Python 3"
    },
    "language_info": {
      "name": "python"
    }
  },
  "cells": [
    {
      "cell_type": "markdown",
      "metadata": {
        "id": "view-in-github",
        "colab_type": "text"
      },
      "source": [
        "<a href=\"https://colab.research.google.com/github/ua-datalab/Geospatial_Workshops/blob/main/COGs.ipynb\" target=\"_parent\"><img src=\"https://colab.research.google.com/assets/colab-badge.svg\" alt=\"Open In Colab\"/></a>"
      ]
    },
    {
      "cell_type": "code",
      "execution_count": 1,
      "metadata": {
        "id": "qkxnKEQDo0_n"
      },
      "outputs": [],
      "source": [
        "pip install rasterio --quiet"
      ]
    },
    {
      "cell_type": "code",
      "source": [
        "import rasterio\n",
        "from rasterio.plot import show\n",
        "import matplotlib.pyplot as plt\n",
        "import requests"
      ],
      "metadata": {
        "id": "vsZ_2bZ4pHou"
      },
      "execution_count": 3,
      "outputs": []
    },
    {
      "cell_type": "code",
      "source": [
        "cog_path = 'https://data.cyverse.org/dav-anon/iplant/home/jgillan/Jeffs_stuff/Bighorn_fire/Planet_satellite_imagery/orthomosaics/planet_6sept2020.tif'"
      ],
      "metadata": {
        "id": "xn6OTc5opJ0I"
      },
      "execution_count": 4,
      "outputs": []
    },
    {
      "cell_type": "code",
      "source": [
        "local_cog_path = '/content/cog.tif'"
      ],
      "metadata": {
        "id": "1RoJ4p--v6zu"
      },
      "execution_count": 5,
      "outputs": []
    },
    {
      "cell_type": "code",
      "source": [
        "# Perform a GET request to download the COG\n",
        "response = requests.get(cog_path)\n",
        "\n",
        "# Check if the request was successful (status code 200)\n",
        "if response.status_code == 200:\n",
        "    # Open the local file in binary write mode and save the content of the COG\n",
        "    with open(local_cog_path, 'wb') as f:\n",
        "        f.write(response.content)\n",
        "    print(\"COG downloaded successfully.\")\n",
        "else:\n",
        "    print(f\"Failed to download COG. Status code: {response.status_code}\")"
      ],
      "metadata": {
        "colab": {
          "base_uri": "https://localhost:8080/"
        },
        "id": "fF19eZa5wWIB",
        "outputId": "437624cf-b5f4-465a-bcfe-158a9056f9d1"
      },
      "execution_count": 7,
      "outputs": [
        {
          "output_type": "stream",
          "name": "stdout",
          "text": [
            "COG downloaded successfully.\n"
          ]
        }
      ]
    },
    {
      "cell_type": "code",
      "source": [
        "### Visualize the Satellite Imagery\n",
        "## Planetscope band order: band 1 = blue; band 2 = green; band 3 = red; band 4 = near-infrared\n",
        "\n",
        "with rasterio.open(local_cog_path) as src:\n",
        "    image = src.read([4, 3, 2])  # Display as false-color composite (show nir as red; show red as green; show green as blue)\n",
        "\n",
        "# Normalize the bands\n",
        "image = image.astype('float32')\n",
        "for i in range(image.shape[0]):\n",
        "    image[i] /= image[i].max()\n",
        "\n",
        "plt.figure(figsize=(10, 10))\n",
        "\n",
        "image = image.transpose(1, 2, 0)  # Transpose dimensions\n",
        "plt.imshow(image)\n",
        "plt.axis('off')\n",
        "plt.show()"
      ],
      "metadata": {
        "id": "GoZWyGzvpJvX"
      },
      "execution_count": null,
      "outputs": []
    },
    {
      "cell_type": "code",
      "source": [],
      "metadata": {
        "id": "dptVlBMwpJpf"
      },
      "execution_count": null,
      "outputs": []
    },
    {
      "cell_type": "code",
      "source": [],
      "metadata": {
        "id": "0_ImmE_xpJjX"
      },
      "execution_count": null,
      "outputs": []
    }
  ]
}